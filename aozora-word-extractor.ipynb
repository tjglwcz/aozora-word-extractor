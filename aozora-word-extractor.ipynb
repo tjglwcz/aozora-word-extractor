{
 "cells": [
  {
   "cell_type": "code",
   "execution_count": 6,
   "metadata": {},
   "outputs": [
    {
     "name": "stderr",
     "output_type": "stream",
     "text": [
      "[dynet] random seed: 1234\n",
      "[dynet] allocating memory: 32MB\n",
      "[dynet] memory allocation done.\n"
     ]
    }
   ],
   "source": [
    "import nagisa\n",
    "import requests\n",
    "from janome.tokenizer import Tokenizer\n",
    "from bs4 import BeautifulSoup"
   ]
  },
  {
   "cell_type": "code",
   "execution_count": 7,
   "metadata": {},
   "outputs": [],
   "source": [
    "URL = \"https://www.aozora.gr.jp/cards/000148/files/795_43522.html\"\n",
    "book_source = requests.get(URL)"
   ]
  },
  {
   "cell_type": "code",
   "execution_count": 8,
   "metadata": {},
   "outputs": [],
   "source": [
    "soup = BeautifulSoup(book_source.content, \"html.parser\")\n",
    "book_text = soup.find(\"div\",{\"class\":\"main_text\"}).get_text()"
   ]
  },
  {
   "cell_type": "code",
   "execution_count": 30,
   "metadata": {},
   "outputs": [],
   "source": [
    "verbs = nagisa.extract(book_text, extract_postags='動詞').words\n",
    "nouns = nagisa.extract(book_text, extract_postags='名詞').words\n",
    "i_adjectives = nagisa.extract(book_text, extract_postags='形容詞').words\n",
    "na_adjectives = nagisa.extract(book_text, extract_postags='形状詞').words\n",
    "pronouns = nagisa.extract(book_text, extract_postags='代名詞').words\n"
   ]
  },
  {
   "cell_type": "code",
   "execution_count": 29,
   "metadata": {},
   "outputs": [
    {
     "name": "stdout",
     "output_type": "stream",
     "text": [
      "['余', '子規', '描い', '画', '一', '持っ', 'いる', '亡友', '記念', '思っ', '長い', '間', 'それ', '袋', '中', '入れ', 'しまっ', 'おい', '年数', '経つ', '伴れ', '時', '袋', '所在', '忘れ', '打ち', '過ぎる', '事', '多かっ', '近頃', '思い出し', 'し', 'おい', '転宅', '際', 'どこ', '散逸', 'する', '知れ', '今', 'うち', '表具', 'やっ', '懸物', '仕立て', '云う', '気', '起っ', '渋紙', '袋', '引き出し', '塵', '払い', '中', '検べる', '画', '元', 'まま', '湿っぽく', '四', '折', '畳ん', 'あっ', '画', 'ほか', '無い', '思っ', '子規', '手紙', '幾', '出', '来', '余', '中', '子規', '余', '宛て', '寄こ', 'し', '最後', 'もの', 'それ', '年月', '分ら', '短い', 'もの', '選び出し', '中間', '例', '画', '挟ん', '三', '一纏め', '表装', 'さ', '画', '一', '花瓶', '挿し', '東菊', '図柄', 'し', '単簡', '者', 'ある', '傍', '是', '所', '思い玉え', '病気', '所為', '思い玉え', '嘘', '思わ', '肱', '突い', '描い', '見玉え', 'いう', '註釈', '加え', 'ある', 'ところ', 'もっ', '見る', '自分', '旨い', '考え', 'い', '子規', '画', '描い', '時', '余', '東京', 'い', '彼', '画', '東菊', '活け', '置きけり', '火', '国', '住みける', '帰り来る', '云う', '一', '首', '歌', '添え', '熊本', '送っ', '来', 'ある', '壁', '懸け', '眺め', '見る', '淋しい', '感じ', 'する', '色', '花', '茎', '葉', '硝子', '瓶', '合せ', 'わずか', '三', '使っ', '花', '開い', '一', '蕾', '二', 'ある', '葉', '数', '勘定', 'し', '見', 'すべて', '九', 'あっ', 'それ', '周囲', '白い', '表装', '絹地', '寒い', '藍', '眺め', '冷たい', '心持', '襲っ', '来', 'なら', '子規', '簡単', '草花', '描く', 'ため', '非常', '努力', '惜しま', 'よう', '見える', '三', '花', '少く', '五', '六', '時間', '手間', 'かけ', 'どこ', 'どこ', '丹念', '塗り上げ', 'いる', 'これ', '骨折', 'ただ', '病中', '根気', '仕事', 'し', '決心', '要する', '雑作', '俳句', '歌', '作り上げる', '彼', '性情', '云っ', '明か', '矛盾', 'ある', '思う', '画', '云う', '事', '初心', '彼', '当時', '絵画', 'おけ', '写生', '必要', '不折', '聞い', 'それ', '一', '一', '上', '実行', 'しよう', '企て', '彼', '俳句', '上', '悟入', 'し', '同一', '方法', '方面', '向っ', '適用', 'する', '事', '忘れ', '適用', 'する', '腕', 'なかっ', 'あろう', '東菊', 'よっ', '代表', 'さ', '子規', '画', '拙く', '真面目', 'ある', '才', '呵し', '章', 'なす', '彼', '文筆', '絵の具', '皿', '浸る', '同時', '堅く', 'なっ', '穂先', '運行', '竦ん', 'しまっ', '思う', '余', '微笑', '禁じ', '得', 'ある', '虚子', '来', '幅', '見', '時', '正岡', '絵', '旨い', 'あり', '云っ', 'こと', 'ある', '余', '時', 'あれ', '単純', '平凡', '特色', '出す', '時間', '労力', '費さ', 'なら', '思う', '何', '正岡', '頭', '手', 'いら', '働き', '余儀', 'なく', 'さ', 'ある', 'ところ', '隠し', '切れ', '拙', '溢れ', 'いる', '思う', '答え', '馬鹿律', '義', 'もの', '厭味', '利い', '風', 'あり', 'ない', 'そこ', '重厚', '好所', 'ある', 'すれ', '子規', '画', '働き', 'ない', '愚直', 'もの', '旨', 'ある', '一線', '一', '画', '瞬間', '作用', '始末', 'つけ', '特長', 'とっさ', '弁ずる', '手際', 'ない', 'ため', 'やむ', 'え', '省略', '捷径', '棄て', '几帳面', '塗抹', '主義', '根気', '実行', 'し', 'すれ', '拙', '一', '字', 'し', '免れ', '子規', '人間', 'し', '文学', 'し', '拙', '欠乏', 'し', '男', 'あっ', '永年', '彼', '交際', 'し', '月', '日', '余', 'いま', '彼', '拙', '笑い', '得る', '機会', '捉え', '得', '試', 'ない', '彼', '拙', '惚れ込ん', '瞬間', '場合', '彼', '歿後', 'ほとんど', '十', '年', 'なろう', 'する', '今日', '彼', '余', 'ため', '描い', '一', '東菊', '中', '確', '一', '拙', '字', '認める', '事', 'でき', '結果', '余', 'し', '失笑', 'せ', '感服', 'せ', '論', 'なく', '余', 'とっ', '多大', '興味', 'ある', '画', '淋しい', 'でき', '得る', '子規', '拙', '所', '雄大', '発揮', 'さ', '淋し', '償', 'し']\n"
     ]
    }
   ],
   "source": [
    "print(all_words.words)"
   ]
  },
  {
   "cell_type": "code",
   "execution_count": 10,
   "metadata": {},
   "outputs": [],
   "source": [
    "def convert_to_base_form(wordlist):\n",
    "    t = Tokenizer()\n",
    "    base_forms = []\n",
    "\n",
    "    for word in wordlist:\n",
    "        tokens = t.tokenize(word)\n",
    "        for token in tokens:\n",
    "            base_forms.append(token.base_form)\n",
    "\n",
    "    return base_forms\n"
   ]
  },
  {
   "cell_type": "code",
   "execution_count": 12,
   "metadata": {},
   "outputs": [
    {
     "name": "stdout",
     "output_type": "stream",
     "text": [
      "['長い', '多い', '湿っぽい', '無い', '短い', '旨い', '淋しい', '白い', '寒い', '冷たい', '少い', 'ない', '拙い', '堅い', '旨い', 'ない', 'ない', 'ない', '旨', 'ない', 'ない', 'ない', '淋しい', '淋しい']\n"
     ]
    }
   ],
   "source": [
    "base_forms = convert_to_base_form(adjectives)\n",
    "print(base_forms)"
   ]
  },
  {
   "cell_type": "code",
   "execution_count": 13,
   "metadata": {},
   "outputs": [
    {
     "data": {
      "text/plain": [
       "{'meta': {'status': 200},\n",
       " 'data': [{'slug': '寂しい',\n",
       "   'is_common': True,\n",
       "   'tags': ['wanikani56'],\n",
       "   'jlpt': ['jlpt-n4'],\n",
       "   'japanese': [{'word': '寂しい', 'reading': 'さびしい'},\n",
       "    {'word': '寂しい', 'reading': 'さみしい'},\n",
       "    {'word': '淋しい', 'reading': 'さびしい'},\n",
       "    {'word': '淋しい', 'reading': 'さみしい'}],\n",
       "   'senses': [{'english_definitions': ['lonely',\n",
       "      'lonesome',\n",
       "      'solitary',\n",
       "      'desolate'],\n",
       "     'parts_of_speech': ['I-adjective (keiyoushi)'],\n",
       "     'links': [],\n",
       "     'tags': [],\n",
       "     'restrictions': [],\n",
       "     'see_also': [],\n",
       "     'antonyms': [],\n",
       "     'source': [],\n",
       "     'info': []}],\n",
       "   'attribution': {'jmdict': True, 'jmnedict': False, 'dbpedia': False}},\n",
       "  {'slug': '518690fcd5dda7b2c601ac05',\n",
       "   'tags': [],\n",
       "   'jlpt': [],\n",
       "   'japanese': [{'word': '淋しい熱帯魚'}],\n",
       "   'senses': [{'english_definitions': ['Samishii Nettaigyo'],\n",
       "     'parts_of_speech': ['Wikipedia definition'],\n",
       "     'links': [{'text': 'Read “Samishii Nettaigyo” on English Wikipedia',\n",
       "       'url': 'http://en.wikipedia.org/wiki/Samishii_Nettaigyo?oldid=435624857'},\n",
       "      {'text': 'Read “淋しい熱帯魚” on Japanese Wikipedia',\n",
       "       'url': 'http://ja.wikipedia.org/wiki/淋しい熱帯魚?oldid=40786298'}],\n",
       "     'tags': [],\n",
       "     'restrictions': [],\n",
       "     'see_also': [],\n",
       "     'antonyms': [],\n",
       "     'source': [],\n",
       "     'info': [],\n",
       "     'sentences': []}],\n",
       "   'attribution': {'jmdict': False,\n",
       "    'jmnedict': False,\n",
       "    'dbpedia': 'http://dbpedia.org/resource/Samishii_Nettaigyo'}}]}"
      ]
     },
     "execution_count": 13,
     "metadata": {},
     "output_type": "execute_result"
    }
   ],
   "source": [
    "requests.get(\"https://jisho.org/api/v1/search/words?keyword=淋しい\").json()"
   ]
  }
 ],
 "metadata": {
  "kernelspec": {
   "display_name": "Python 3",
   "language": "python",
   "name": "python3"
  },
  "language_info": {
   "codemirror_mode": {
    "name": "ipython",
    "version": 3
   },
   "file_extension": ".py",
   "mimetype": "text/x-python",
   "name": "python",
   "nbconvert_exporter": "python",
   "pygments_lexer": "ipython3",
   "version": "3.8.10"
  },
  "orig_nbformat": 4
 },
 "nbformat": 4,
 "nbformat_minor": 2
}
