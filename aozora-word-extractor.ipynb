{
 "cells": [
  {
   "cell_type": "code",
   "execution_count": 1,
   "metadata": {},
   "outputs": [
    {
     "name": "stderr",
     "output_type": "stream",
     "text": [
      "[dynet] random seed: 1234\n",
      "[dynet] allocating memory: 32MB\n",
      "[dynet] memory allocation done.\n"
     ]
    }
   ],
   "source": [
    "import nagisa\n",
    "import requests\n",
    "import time\n",
    "import pandas as pd\n",
    "from janome.tokenizer import Tokenizer\n",
    "from bs4 import BeautifulSoup\n",
    "from collections import Counter"
   ]
  },
  {
   "cell_type": "code",
   "execution_count": 2,
   "metadata": {},
   "outputs": [],
   "source": [
    "URL = \"https://www.aozora.gr.jp/cards/000148/files/795_43522.html\"\n",
    "book_source = requests.get(URL)"
   ]
  },
  {
   "cell_type": "code",
   "execution_count": 21,
   "metadata": {},
   "outputs": [],
   "source": [
    "soup = BeautifulSoup(book_source.content, \"html.parser\")\n",
    "book_text = soup.find(\"div\",{\"class\":\"main_text\"}).get_text()\n",
    "book_title = soup.find(\"h1\").get_text()\n",
    "book_author = soup.find(\"h2\").get_text()\n",
    "file_name = f'{book_author} - {book_title}.csv'"
   ]
  },
  {
   "cell_type": "code",
   "execution_count": 4,
   "metadata": {},
   "outputs": [],
   "source": [
    "pronouns = nagisa.extract(book_text, extract_postags='代名詞').words\n",
    "nouns = nagisa.extract(book_text, extract_postags='名詞').words\n",
    "verbs = nagisa.extract(book_text, extract_postags='動詞').words\n",
    "i_adjectives = nagisa.extract(book_text, extract_postags='形容詞').words\n",
    "na_adjectives = nagisa.extract(book_text, extract_postags='形状詞').words"
   ]
  },
  {
   "cell_type": "code",
   "execution_count": null,
   "metadata": {},
   "outputs": [],
   "source": [
    "print(pronouns)"
   ]
  },
  {
   "cell_type": "code",
   "execution_count": 5,
   "metadata": {},
   "outputs": [],
   "source": [
    "def convert_to_base_form(wordlist):\n",
    "    t = Tokenizer()\n",
    "    base_forms = []\n",
    "\n",
    "    for word in wordlist:\n",
    "        tokens = t.tokenize(word)\n",
    "        for token in tokens:\n",
    "            base_forms.append(token.base_form)\n",
    "\n",
    "    return base_forms\n"
   ]
  },
  {
   "cell_type": "code",
   "execution_count": 6,
   "metadata": {},
   "outputs": [],
   "source": [
    "verbs = convert_to_base_form(verbs)\n",
    "i_adjectives = convert_to_base_form(i_adjectives)\n",
    "na_adjectives = convert_to_base_form(na_adjectives)"
   ]
  },
  {
   "cell_type": "code",
   "execution_count": 7,
   "metadata": {},
   "outputs": [],
   "source": [
    "verbs = [word for word in verbs if len(word) > 1]\n",
    "i_adjectives = [word for word in i_adjectives if len(word) > 1]\n",
    "na_adjectives = [word for word in na_adjectives if len(word) > 1]"
   ]
  },
  {
   "cell_type": "code",
   "execution_count": 10,
   "metadata": {},
   "outputs": [
    {
     "name": "stdout",
     "output_type": "stream",
     "text": [
      "    Word  Count\n",
      "0      余     20\n",
      "1     子規     18\n",
      "2      画     24\n",
      "3      一     20\n",
      "4     亡友      2\n",
      "..   ...    ...\n",
      "289  真面目      1\n",
      "290   単純      1\n",
      "291  几帳面      1\n",
      "292   多大      1\n",
      "293   雄大      1\n",
      "\n",
      "[294 rows x 2 columns]\n"
     ]
    }
   ],
   "source": [
    "wordlist = pronouns + nouns + verbs + i_adjectives + na_adjectives\n",
    "wordlist = Counter(wordlist)\n",
    "wordlist = pd.DataFrame(wordlist.items(), columns = ['Word', 'Count'])\n",
    "print(wordlist)"
   ]
  },
  {
   "cell_type": "code",
   "execution_count": null,
   "metadata": {},
   "outputs": [],
   "source": [
    "requests.get(\"https://jisho.org/api/v1/search/words?keyword=渋紙\").json()"
   ]
  },
  {
   "cell_type": "code",
   "execution_count": null,
   "metadata": {},
   "outputs": [],
   "source": [
    "requests.get(\"https://jisho.org/api/v1/search/words?keyword=無い\").json()['data'][0]['jlpt']"
   ]
  },
  {
   "cell_type": "code",
   "execution_count": 17,
   "metadata": {},
   "outputs": [],
   "source": [
    "def make_api_request(word):\n",
    "    url = f\"https://jisho.org/api/v1/search/words?keyword={word}\"\n",
    "    try:\n",
    "        response = requests.get(url, timeout=10)\n",
    "        response.raise_for_status()\n",
    "        return response.json()\n",
    "    except (requests.exceptions.RequestException, requests.exceptions.Timeout):\n",
    "        print(f\"Timeout for word: {word}. Retrying in 5 seconds...\")\n",
    "        time.sleep(5)\n",
    "        return make_api_request(word)"
   ]
  },
  {
   "cell_type": "code",
   "execution_count": 12,
   "metadata": {},
   "outputs": [],
   "source": [
    "def get_reading(wordlist):\n",
    "    results = []\n",
    "    for word in wordlist:\n",
    "        response = make_api_request(word)\n",
    "        try:\n",
    "            result = response['data'][0]['japanese'][0]['reading']\n",
    "        except (IndexError, KeyError):\n",
    "            result = \"unknown\"\n",
    "        results.append(result)\n",
    "    return results"
   ]
  },
  {
   "cell_type": "code",
   "execution_count": 13,
   "metadata": {},
   "outputs": [],
   "source": [
    "def get_jlpt_level(wordlist):\n",
    "    results = []\n",
    "    for word in wordlist:\n",
    "        response = make_api_request(word)\n",
    "        try:\n",
    "            if response['data'][0]['jlpt']:\n",
    "                result = response['data'][0]['jlpt'][0]\n",
    "            else:\n",
    "                result = \"Unknown\"\n",
    "        except (IndexError, KeyError):\n",
    "            result = \"Unknown\"\n",
    "        results.append(result)\n",
    "    return results"
   ]
  },
  {
   "cell_type": "code",
   "execution_count": 15,
   "metadata": {},
   "outputs": [
    {
     "name": "stdout",
     "output_type": "stream",
     "text": [
      "Timeout for word: 思い玉え. Retrying in 5 seconds...\n",
      "Timeout for word: 思い玉え. Retrying in 5 seconds...\n",
      "Timeout for word: 見玉え. Retrying in 5 seconds...\n",
      "Timeout for word: 見玉え. Retrying in 5 seconds...\n",
      "Timeout for word: 見玉え. Retrying in 5 seconds...\n",
      "Timeout for word: 見玉え. Retrying in 5 seconds...\n",
      "Timeout for word: 見玉え. Retrying in 5 seconds...\n",
      "Timeout for word: 見玉え. Retrying in 5 seconds...\n",
      "Timeout for word: 見玉え. Retrying in 5 seconds...\n",
      "Timeout for word: 見玉え. Retrying in 5 seconds...\n",
      "Timeout for word: 見玉え. Retrying in 5 seconds...\n",
      "Timeout for word: 彼. Retrying in 5 seconds...\n",
      "Timeout for word: 彼. Retrying in 5 seconds...\n",
      "Timeout for word: 手間. Retrying in 5 seconds...\n",
      "Timeout for word: 性情. Retrying in 5 seconds...\n",
      "Timeout for word: 性情. Retrying in 5 seconds...\n",
      "Timeout for word: 性情. Retrying in 5 seconds...\n",
      "Timeout for word: 性情. Retrying in 5 seconds...\n",
      "Timeout for word: 性情. Retrying in 5 seconds...\n",
      "Timeout for word: 初心. Retrying in 5 seconds...\n",
      "Timeout for word: 初心. Retrying in 5 seconds...\n",
      "Timeout for word: 初心. Retrying in 5 seconds...\n",
      "Timeout for word: 初心. Retrying in 5 seconds...\n",
      "Timeout for word: 初心. Retrying in 5 seconds...\n",
      "Timeout for word: 初心. Retrying in 5 seconds...\n",
      "Timeout for word: 章. Retrying in 5 seconds...\n",
      "Timeout for word: 厭味. Retrying in 5 seconds...\n",
      "Timeout for word: 厭味. Retrying in 5 seconds...\n",
      "Timeout for word: 瞬間. Retrying in 5 seconds...\n",
      "Timeout for word: 瞬間. Retrying in 5 seconds...\n",
      "Timeout for word: 瞬間. Retrying in 5 seconds...\n",
      "Timeout for word: 瞬間. Retrying in 5 seconds...\n",
      "Timeout for word: 瞬間. Retrying in 5 seconds...\n",
      "Timeout for word: 瞬間. Retrying in 5 seconds...\n",
      "Timeout for word: 瞬間. Retrying in 5 seconds...\n",
      "Timeout for word: 作用. Retrying in 5 seconds...\n",
      "Timeout for word: 作用. Retrying in 5 seconds...\n",
      "Timeout for word: 捷径. Retrying in 5 seconds...\n",
      "Timeout for word: 発揮. Retrying in 5 seconds...\n",
      "Timeout for word: 発揮. Retrying in 5 seconds...\n",
      "Timeout for word: 打つ. Retrying in 5 seconds...\n",
      "Timeout for word: 思い出す. Retrying in 5 seconds...\n",
      "Timeout for word: 思い出す. Retrying in 5 seconds...\n",
      "Timeout for word: 思い出す. Retrying in 5 seconds...\n",
      "Timeout for word: 思い出す. Retrying in 5 seconds...\n",
      "Timeout for word: 思い出す. Retrying in 5 seconds...\n",
      "Timeout for word: 思い出す. Retrying in 5 seconds...\n",
      "Timeout for word: する. Retrying in 5 seconds...\n",
      "Timeout for word: する. Retrying in 5 seconds...\n",
      "Timeout for word: する. Retrying in 5 seconds...\n",
      "Timeout for word: 眺め. Retrying in 5 seconds...\n",
      "Timeout for word: 眺め. Retrying in 5 seconds...\n",
      "Timeout for word: 上げ. Retrying in 5 seconds...\n",
      "Timeout for word: 向う. Retrying in 5 seconds...\n",
      "Timeout for word: 呵する. Retrying in 5 seconds...\n",
      "Timeout for word: 呵する. Retrying in 5 seconds...\n",
      "Timeout for word: 呵する. Retrying in 5 seconds...\n",
      "Timeout for word: 呵する. Retrying in 5 seconds...\n",
      "Timeout for word: 呵する. Retrying in 5 seconds...\n",
      "Timeout for word: 呵する. Retrying in 5 seconds...\n",
      "Timeout for word: なす. Retrying in 5 seconds...\n",
      "Timeout for word: なす. Retrying in 5 seconds...\n",
      "Timeout for word: なす. Retrying in 5 seconds...\n",
      "Timeout for word: なす. Retrying in 5 seconds...\n",
      "Timeout for word: なす. Retrying in 5 seconds...\n",
      "Timeout for word: なす. Retrying in 5 seconds...\n",
      "Timeout for word: 浸る. Retrying in 5 seconds...\n",
      "Timeout for word: 浸る. Retrying in 5 seconds...\n",
      "Timeout for word: 少い. Retrying in 5 seconds...\n",
      "Timeout for word: 雄大. Retrying in 5 seconds...\n",
      "['よ', 'ほととぎす', 'かく', 'いち', 'ぼうゆう', 'きねん', 'あいだ', 'それ', 'ふくろ', 'ちゅう', 'ねんすう', 'とき', 'しょざい', 'こと', 'ちかごろ', 'てんたく', 'さい', 'どこ', 'さんいつ', 'いま', 'うち', 'ひょうぐ', 'かけもの', 'き', 'しぶがみ', 'ごみ', 'もと', 'まま', 'し', 'おり', 'ほか', 'てがみ', 'いく', 'よこす', 'さいご', 'もの', 'としつき', 'ちゅうかん', 'れい', 'さん', 'ひとまとめ', 'ひょうそう', 'かびん', 'ひがし', 'ずがら', 'たんかん', 'もの', 'そば', 'これ', 'ところ', 'え', 'びょうき', 'せい', 'うそ', 'ひじ', 'unknown', 'ちゅうしゃく', 'ところ', 'じぶん', 'とうきょう', 'かれ', 'おき', 'ひ', 'くに', 'すむ', 'くび', 'うた', 'くまもと', 'かべ', 'かんじ', 'いろ', 'はな', 'くき', 'は', 'ガラス', 'びん', 'つぼみ', 'に', 'すう', 'かんじょう', 'すべて', 'きゅう', 'しゅうい', 'きぬじ', 'あい', 'こころもち', 'くさばな', 'ため', 'どりょく', 'ご', 'ろく', 'じかん', 'てま', 'これ', 'こっせつ', 'ただ', 'びょうちゅう', 'こんき', 'しごと', 'けっしん', 'ぞうさく', 'はいく', 'せいじょう', 'むじゅん', 'しょしん', 'とうじ', 'かいが', 'しゃせい', 'ひつよう', 'unknown', 'うえ', 'じっこう', 'ごにゅう', 'ほうほう', 'ほうめん', 'てきよう', 'うで', 'だいひょう', 'さい', 'しょう', 'ぶんぴつ', 'えのぐ', 'さら', 'どうじ', 'ほさき', 'うんこう', 'びしょう', 'unknown', 'はば', 'unknown', 'え', 'こと', 'あれ', 'へいぼん', 'とくしょく', 'ろうりょく', 'なに', 'あたま', 'て', 'はたらき', 'よぎ', 'せつ', 'ばかりちぎ', 'ぎ', 'いやみ', 'かぜ', 'そこ', 'じゅうこう', 'unknown', 'ぐちょく', 'いっせん', 'しゅんかん', 'さよう', 'しまつ', 'とくちょう', 'とっさ', 'てぎわ', 'しょうりゃく', 'しょうけい', 'とまつ', 'しゅぎ', 'じ', 'にんげん', 'ぶんがく', 'けつぼう', 'おとこ', 'ながねん', 'こうさい', 'つき', 'にち', 'いま', 'きかい', 'し', 'ばあい', 'ぼつご', 'ほとんど', 'じゅう', 'とし', 'きょう', 'けっか', 'しっしょう', 'かんぷく', 'ろん', 'きょうみ', 'はっき', 'つぐない', 'えがく', 'もつ', 'いる', 'おもう', 'いれる', 'しまう', 'おい', 'たつ', 'わすれる', 'うつ', 'すぎる', 'おもいだす', 'する', 'しれる', 'やる', 'したて', 'いう', 'おこる', 'ひきだす', 'はらう', 'たたむ', 'あっ', 'くる', 'あて', 'わかる', 'えらびだす', 'はさむ', 'さす', 'ある', 'つく', 'いう', 'くわえる', 'もつ', 'みる', 'かんがえ', 'いける', 'かえる', 'そえる', 'おくる', 'かける', 'ながめ', 'あわせる', 'つかう', 'ひらく', 'おそう', 'なら', 'おしい', 'みえる', 'かける', 'ぬり', 'あげ', 'ようする', 'つくりあげる', 'おける', 'きく', 'くわだて', 'むかう', 'よる', 'しかり', 'なす', 'ひたる', 'なる', 'すくむ', 'きんじる', 'だす', 'ついやす', 'かくす', 'きれ', 'あふれる', 'こたえ', 'きく', 'つけ', 'べんずる', 'やむ', 'すてる', 'まぬがれる', 'わらい', 'える', 'とらえる', 'ほれこむ', 'みとめる', 'できる', 'とる', 'ながい', 'おおい', 'しめっぽい', 'ない', 'みじかい', 'うまい', 'さびしい', 'しろい', 'さむい', 'つめたい', 'すくない', 'ない', 'つたない', 'かたい', 'わずか', 'かんたん', 'ひじょう', 'よう', 'たんねん', 'どういつ', 'まじめ', 'たんじゅん', 'きちょうめん', 'ただい', 'ゆうだい']\n"
     ]
    }
   ],
   "source": [
    "wordlist_reading = get_reading(wordlist['Word'])\n",
    "print(wordlist_reading)"
   ]
  },
  {
   "cell_type": "code",
   "execution_count": 16,
   "metadata": {},
   "outputs": [
    {
     "name": "stdout",
     "output_type": "stream",
     "text": [
      "    Word  Count Reading\n",
      "0      余     20       よ\n",
      "1     子規     18   ほととぎす\n",
      "2      画     24      かく\n",
      "3      一     20      いち\n",
      "4     亡友      2    ぼうゆう\n",
      "..   ...    ...     ...\n",
      "289  真面目      1     まじめ\n",
      "290   単純      1   たんじゅん\n",
      "291  几帳面      1  きちょうめん\n",
      "292   多大      1     ただい\n",
      "293   雄大      1    ゆうだい\n",
      "\n",
      "[294 rows x 3 columns]\n"
     ]
    }
   ],
   "source": [
    "wordlist['Reading'] = wordlist_reading\n",
    "print(wordlist)"
   ]
  },
  {
   "cell_type": "code",
   "execution_count": 18,
   "metadata": {},
   "outputs": [
    {
     "name": "stdout",
     "output_type": "stream",
     "text": [
      "Timeout for word: 子規. Retrying in 5 seconds...\n",
      "Timeout for word: 子規. Retrying in 5 seconds...\n",
      "Timeout for word: 中間. Retrying in 5 seconds...\n",
      "Timeout for word: 文筆. Retrying in 5 seconds...\n",
      "Timeout for word: 風. Retrying in 5 seconds...\n",
      "Timeout for word: 風. Retrying in 5 seconds...\n",
      "Timeout for word: そこ. Retrying in 5 seconds...\n",
      "Timeout for word: そこ. Retrying in 5 seconds...\n",
      "Timeout for word: そこ. Retrying in 5 seconds...\n",
      "Timeout for word: そこ. Retrying in 5 seconds...\n",
      "Timeout for word: そこ. Retrying in 5 seconds...\n",
      "Timeout for word: そこ. Retrying in 5 seconds...\n",
      "Timeout for word: そこ. Retrying in 5 seconds...\n",
      "Timeout for word: そこ. Retrying in 5 seconds...\n",
      "Timeout for word: 重厚. Retrying in 5 seconds...\n",
      "Timeout for word: 始末. Retrying in 5 seconds...\n",
      "Timeout for word: 特長. Retrying in 5 seconds...\n",
      "Timeout for word: 思う. Retrying in 5 seconds...\n",
      "Timeout for word: 浸る. Retrying in 5 seconds...\n",
      "Timeout for word: 浸る. Retrying in 5 seconds...\n",
      "Timeout for word: 浸る. Retrying in 5 seconds...\n",
      "Timeout for word: 浸る. Retrying in 5 seconds...\n",
      "Timeout for word: 浸る. Retrying in 5 seconds...\n",
      "Timeout for word: なる. Retrying in 5 seconds...\n",
      "Timeout for word: 竦む. Retrying in 5 seconds...\n",
      "Timeout for word: 竦む. Retrying in 5 seconds...\n",
      "Timeout for word: 竦む. Retrying in 5 seconds...\n",
      "Timeout for word: 竦む. Retrying in 5 seconds...\n",
      "Timeout for word: 竦む. Retrying in 5 seconds...\n",
      "Timeout for word: 冷たい. Retrying in 5 seconds...\n",
      "Timeout for word: 少い. Retrying in 5 seconds...\n",
      "Timeout for word: 同一. Retrying in 5 seconds...\n",
      "Timeout for word: 真面目. Retrying in 5 seconds...\n",
      "    Word  Count Reading    Level\n",
      "0      余     20       よ  Unknown\n",
      "1     子規     18   ほととぎす  Unknown\n",
      "2      画     24      かく  jlpt-n1\n",
      "3      一     20      いち  jlpt-n5\n",
      "4     亡友      2    ぼうゆう  Unknown\n",
      "..   ...    ...     ...      ...\n",
      "289  真面目      1     まじめ  jlpt-n3\n",
      "290   単純      1   たんじゅん  jlpt-n3\n",
      "291  几帳面      1  きちょうめん  jlpt-n1\n",
      "292   多大      1     ただい  Unknown\n",
      "293   雄大      1    ゆうだい  Unknown\n",
      "\n",
      "[294 rows x 4 columns]\n"
     ]
    }
   ],
   "source": [
    "wordlist_level = get_jlpt_level(wordlist['Word'])\n",
    "wordlist['Level'] = wordlist_level\n",
    "print(wordlist)"
   ]
  },
  {
   "cell_type": "code",
   "execution_count": 22,
   "metadata": {},
   "outputs": [],
   "source": [
    "wordlist.to_csv(file_name, index = False)"
   ]
  }
 ],
 "metadata": {
  "kernelspec": {
   "display_name": "Python 3",
   "language": "python",
   "name": "python3"
  },
  "language_info": {
   "codemirror_mode": {
    "name": "ipython",
    "version": 3
   },
   "file_extension": ".py",
   "mimetype": "text/x-python",
   "name": "python",
   "nbconvert_exporter": "python",
   "pygments_lexer": "ipython3",
   "version": "3.8.10"
  },
  "orig_nbformat": 4
 },
 "nbformat": 4,
 "nbformat_minor": 2
}
