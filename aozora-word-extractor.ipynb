{
 "cells": [
  {
   "cell_type": "code",
   "execution_count": 1,
   "metadata": {},
   "outputs": [
    {
     "name": "stderr",
     "output_type": "stream",
     "text": [
      "[dynet] random seed: 1234\n",
      "[dynet] allocating memory: 32MB\n",
      "[dynet] memory allocation done.\n"
     ]
    }
   ],
   "source": [
    "import nagisa\n",
    "import requests\n",
    "from bs4 import BeautifulSoup"
   ]
  },
  {
   "cell_type": "code",
   "execution_count": 12,
   "metadata": {},
   "outputs": [
    {
     "name": "stdout",
     "output_type": "stream",
     "text": [
      "['こと', 'あっ', 'し', '読み', 'し']\n"
     ]
    }
   ],
   "source": [
    "source_text = \"しかし私は知ってよいことと知ってはならないこととの区別は知っている。\"\n",
    "source_text2 = \"まあそんなことはどうでもよい。かりにそうであったとしても、私は決して読みはしない。\"\n",
    "\n",
    "words = nagisa.extract(source_text2, extract_postags=['名詞', '動詞', '形容詞'])\n",
    "\n",
    "\n",
    "print(words.words)"
   ]
  },
  {
   "cell_type": "code",
   "execution_count": 6,
   "metadata": {},
   "outputs": [
    {
     "data": {
      "text/plain": [
       "{'meta': {'status': 200},\n",
       " 'data': [{'slug': '知ったかぶり',\n",
       "   'is_common': False,\n",
       "   'tags': [],\n",
       "   'jlpt': [],\n",
       "   'japanese': [{'word': '知ったかぶり', 'reading': 'しったかぶり'},\n",
       "    {'word': '知ったか振り', 'reading': 'しったかぶり'}],\n",
       "   'senses': [{'english_definitions': ['pretending to know'],\n",
       "     'parts_of_speech': ['Noun', 'Suru verb'],\n",
       "     'links': [],\n",
       "     'tags': [],\n",
       "     'restrictions': [],\n",
       "     'see_also': [],\n",
       "     'antonyms': [],\n",
       "     'source': [],\n",
       "     'info': []}],\n",
       "   'attribution': {'jmdict': True, 'jmnedict': False, 'dbpedia': False}},\n",
       "  {'slug': '知った事ではない',\n",
       "   'is_common': False,\n",
       "   'tags': [],\n",
       "   'jlpt': [],\n",
       "   'japanese': [{'word': '知った事ではない', 'reading': 'しったことではない'},\n",
       "    {'word': '知ったことではない', 'reading': 'しったことではない'}],\n",
       "   'senses': [{'english_definitions': ['to be of no concern to one',\n",
       "      'to be nothing to do with one'],\n",
       "     'parts_of_speech': ['Expressions (phrases, clauses, etc.)',\n",
       "      'I-adjective (keiyoushi)'],\n",
       "     'links': [],\n",
       "     'tags': [],\n",
       "     'restrictions': [],\n",
       "     'see_also': [],\n",
       "     'antonyms': [],\n",
       "     'source': [],\n",
       "     'info': []}],\n",
       "   'attribution': {'jmdict': True, 'jmnedict': False, 'dbpedia': False}},\n",
       "  {'slug': '知っている限り',\n",
       "   'is_common': False,\n",
       "   'tags': [],\n",
       "   'jlpt': [],\n",
       "   'japanese': [{'word': '知っている限り', 'reading': 'しっているかぎり'},\n",
       "    {'word': '知っているかぎり', 'reading': 'しっているかぎり'}],\n",
       "   'senses': [{'english_definitions': ['as far as I know'],\n",
       "     'parts_of_speech': ['Expressions (phrases, clauses, etc.)'],\n",
       "     'links': [],\n",
       "     'tags': [],\n",
       "     'restrictions': [],\n",
       "     'see_also': ['知る限り'],\n",
       "     'antonyms': [],\n",
       "     'source': [],\n",
       "     'info': []}],\n",
       "   'attribution': {'jmdict': True, 'jmnedict': False, 'dbpedia': False}},\n",
       "  {'slug': '知ったかぶり屋',\n",
       "   'is_common': False,\n",
       "   'tags': [],\n",
       "   'jlpt': [],\n",
       "   'japanese': [{'word': '知ったかぶり屋', 'reading': 'しったかぶりや'}],\n",
       "   'senses': [{'english_definitions': ['know-it-all'],\n",
       "     'parts_of_speech': ['Noun',\n",
       "      \"Noun which may take the genitive case particle 'no'\"],\n",
       "     'links': [],\n",
       "     'tags': [],\n",
       "     'restrictions': [],\n",
       "     'see_also': [],\n",
       "     'antonyms': [],\n",
       "     'source': [],\n",
       "     'info': []}],\n",
       "   'attribution': {'jmdict': True, 'jmnedict': False, 'dbpedia': False}},\n",
       "  {'slug': '知ってか知らずか',\n",
       "   'is_common': False,\n",
       "   'tags': [],\n",
       "   'jlpt': [],\n",
       "   'japanese': [{'word': '知ってか知らずか', 'reading': 'しってかしらずか'}],\n",
       "   'senses': [{'english_definitions': ['knowingly or unknowingly',\n",
       "      \"with or without someone's knowledge\"],\n",
       "     'parts_of_speech': ['Expressions (phrases, clauses, etc.)',\n",
       "      'Adverb (fukushi)'],\n",
       "     'links': [],\n",
       "     'tags': [],\n",
       "     'restrictions': [],\n",
       "     'see_also': [],\n",
       "     'antonyms': [],\n",
       "     'source': [],\n",
       "     'info': []}],\n",
       "   'attribution': {'jmdict': True, 'jmnedict': False, 'dbpedia': False}},\n",
       "  {'slug': '知っての通り',\n",
       "   'is_common': True,\n",
       "   'tags': [],\n",
       "   'jlpt': [],\n",
       "   'japanese': [{'word': '知っての通り', 'reading': 'しってのとおり'},\n",
       "    {'word': '知ってのとおり', 'reading': 'しってのとおり'}],\n",
       "   'senses': [{'english_definitions': ['as we know'],\n",
       "     'parts_of_speech': ['Expressions (phrases, clauses, etc.)'],\n",
       "     'links': [],\n",
       "     'tags': [],\n",
       "     'restrictions': [],\n",
       "     'see_also': [],\n",
       "     'antonyms': [],\n",
       "     'source': [],\n",
       "     'info': []}],\n",
       "   'attribution': {'jmdict': True, 'jmnedict': False, 'dbpedia': False}},\n",
       "  {'slug': '知った事か',\n",
       "   'is_common': False,\n",
       "   'tags': [],\n",
       "   'jlpt': [],\n",
       "   'japanese': [{'word': '知ったことか', 'reading': 'しったことか'},\n",
       "    {'word': '知った事か', 'reading': 'しったことか'}],\n",
       "   'senses': [{'english_definitions': ['I have nothing to do with it'],\n",
       "     'parts_of_speech': ['Expressions (phrases, clauses, etc.)'],\n",
       "     'links': [],\n",
       "     'tags': [],\n",
       "     'restrictions': [],\n",
       "     'see_also': [],\n",
       "     'antonyms': [],\n",
       "     'source': [],\n",
       "     'info': []}],\n",
       "   'attribution': {'jmdict': True, 'jmnedict': False, 'dbpedia': False}}]}"
      ]
     },
     "execution_count": 6,
     "metadata": {},
     "output_type": "execute_result"
    }
   ],
   "source": [
    "requests.get(\"https://jisho.org/api/v1/search/words?keyword=知っ\").json()"
   ]
  }
 ],
 "metadata": {
  "kernelspec": {
   "display_name": "Python 3",
   "language": "python",
   "name": "python3"
  },
  "language_info": {
   "codemirror_mode": {
    "name": "ipython",
    "version": 3
   },
   "file_extension": ".py",
   "mimetype": "text/x-python",
   "name": "python",
   "nbconvert_exporter": "python",
   "pygments_lexer": "ipython3",
   "version": "3.8.10"
  },
  "orig_nbformat": 4
 },
 "nbformat": 4,
 "nbformat_minor": 2
}
