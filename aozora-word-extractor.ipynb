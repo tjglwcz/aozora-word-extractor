{
 "cells": [
  {
   "cell_type": "code",
   "execution_count": 47,
   "metadata": {},
   "outputs": [],
   "source": [
    "import nagisa\n",
    "import requests\n",
    "from janome.tokenizer import Tokenizer\n",
    "from bs4 import BeautifulSoup"
   ]
  },
  {
   "cell_type": "code",
   "execution_count": 48,
   "metadata": {},
   "outputs": [],
   "source": [
    "URL = \"https://www.aozora.gr.jp/cards/000148/files/795_43522.html\"\n",
    "book_source = requests.get(URL)"
   ]
  },
  {
   "cell_type": "code",
   "execution_count": 49,
   "metadata": {},
   "outputs": [],
   "source": [
    "soup = BeautifulSoup(book_source.content, \"html.parser\")\n",
    "book_text = soup.find(\"div\",{\"class\":\"main_text\"}).get_text()"
   ]
  },
  {
   "cell_type": "code",
   "execution_count": 50,
   "metadata": {},
   "outputs": [],
   "source": [
    "pronouns = nagisa.extract(book_text, extract_postags='代名詞').words\n",
    "nouns = nagisa.extract(book_text, extract_postags='名詞').words\n",
    "verbs = nagisa.extract(book_text, extract_postags='動詞').words\n",
    "i_adjectives = nagisa.extract(book_text, extract_postags='形容詞').words\n",
    "na_adjectives = nagisa.extract(book_text, extract_postags='形状詞').words"
   ]
  },
  {
   "cell_type": "code",
   "execution_count": 51,
   "metadata": {},
   "outputs": [
    {
     "name": "stdout",
     "output_type": "stream",
     "text": [
      "['余', '子規', '画', '一', '亡友', '記念', '間', 'それ', '袋', '中', '年数', '時', '袋', '所在', '事', '近頃', '転宅', '際', 'どこ', '散逸', '今', 'うち', '表具', '懸物', '気', '渋紙', '袋', '塵', '中', '画', '元', 'まま', '四', '折', '画', 'ほか', '子規', '手紙', '幾', '余', '中', '子規', '余', '寄こ', '最後', 'もの', 'それ', '年月', 'もの', '中間', '例', '画', '三', '一纏め', '表装', '画', '一', '花瓶', '東菊', '図柄', '単簡', '者', '傍', '是', '所', '思い玉え', '病気', '所為', '思い玉え', '嘘', '肱', '見玉え', '註釈', 'ところ', '自分', '子規', '画', '時', '余', '東京', '彼', '画', '東菊', '置きけり', '火', '国', '住みける', '一', '首', '歌', '熊本', '壁', '感じ', '色', '花', '茎', '葉', '硝子', '瓶', '三', '花', '一', '蕾', '二', '葉', '数', '勘定', 'すべて', '九', 'それ', '周囲', '表装', '絹地', '藍', '心持', '子規', '草花', 'ため', '努力', '三', '花', '五', '六', '時間', '手間', 'どこ', 'どこ', 'これ', '骨折', 'ただ', '病中', '根気', '仕事', '決心', '雑作', '俳句', '歌', '彼', '性情', '矛盾', '画', '事', '初心', '彼', '当時', '絵画', '写生', '必要', '不折', 'それ', '一', '一', '上', '実行', '彼', '俳句', '上', '悟入', '方法', '方面', '適用', '事', '適用', '腕', '東菊', '代表', '子規', '画', '才', '章', '彼', '文筆', '絵の具', '皿', '同時', '穂先', '運行', '余', '微笑', '虚子', '幅', '時', '正岡', '絵', 'こと', '余', '時', 'あれ', '平凡', '特色', '時間', '労力', '何', '正岡', '頭', '手', '働き', '余儀', 'ところ', '拙', '馬鹿律', '義', 'もの', '厭味', '風', 'そこ', '重厚', '好所', '子規', '画', '働き', '愚直', 'もの', '一線', '一', '画', '瞬間', '作用', '始末', '特長', 'とっさ', '手際', 'ため', '省略', '捷径', '塗抹', '主義', '根気', '実行', '拙', '一', '字', '子規', '人間', '文学', '拙', '欠乏', '男', '永年', '彼', '交際', '月', '日', '余', 'いま', '彼', '拙', '機会', '試', '彼', '拙', '瞬間', '場合', '彼', '歿後', 'ほとんど', '十', '年', '今日', '彼', '余', 'ため', '一', '東菊', '中', '一', '拙', '字', '事', '結果', '余', '失笑', '感服', '論', '余', '興味', '画', '子規', '拙', '所', '発揮', '償']\n"
     ]
    }
   ],
   "source": [
    "print(pronouns)"
   ]
  },
  {
   "cell_type": "code",
   "execution_count": 52,
   "metadata": {},
   "outputs": [],
   "source": [
    "def convert_to_base_form(wordlist):\n",
    "    t = Tokenizer()\n",
    "    base_forms = []\n",
    "\n",
    "    for word in wordlist:\n",
    "        tokens = t.tokenize(word)\n",
    "        for token in tokens:\n",
    "            base_forms.append(token.base_form)\n",
    "\n",
    "    return base_forms\n"
   ]
  },
  {
   "cell_type": "code",
   "execution_count": 53,
   "metadata": {},
   "outputs": [],
   "source": [
    "verbs = convert_to_base_form(verbs)\n",
    "i_adjectives = convert_to_base_form(i_adjectives)\n",
    "na_adjectives = convert_to_base_form(na_adjectives)"
   ]
  },
  {
   "cell_type": "code",
   "execution_count": 58,
   "metadata": {},
   "outputs": [],
   "source": [
    "verbs = [word for word in verbs if len(word) > 1]\n",
    "i_adjectives = [word for word in i_adjectives if len(word) > 1]\n",
    "na_adjectives = [word for word in na_adjectives if len(word) > 1]"
   ]
  },
  {
   "cell_type": "code",
   "execution_count": 74,
   "metadata": {},
   "outputs": [
    {
     "data": {
      "text/plain": [
       "{'meta': {'status': 200},\n",
       " 'data': [{'slug': '渋紙',\n",
       "   'is_common': False,\n",
       "   'tags': [],\n",
       "   'jlpt': [],\n",
       "   'japanese': [{'word': '渋紙', 'reading': 'しぶがみ'}],\n",
       "   'senses': [{'english_definitions': ['paper treated with astringent persimmon juice'],\n",
       "     'parts_of_speech': ['Noun'],\n",
       "     'links': [],\n",
       "     'tags': [],\n",
       "     'restrictions': [],\n",
       "     'see_also': [],\n",
       "     'antonyms': [],\n",
       "     'source': [],\n",
       "     'info': []}],\n",
       "   'attribution': {'jmdict': True, 'jmnedict': False, 'dbpedia': False}}]}"
      ]
     },
     "execution_count": 74,
     "metadata": {},
     "output_type": "execute_result"
    }
   ],
   "source": [
    "requests.get(\"https://jisho.org/api/v1/search/words?keyword=渋紙\").json()"
   ]
  },
  {
   "cell_type": "code",
   "execution_count": 79,
   "metadata": {},
   "outputs": [
    {
     "data": {
      "text/plain": [
       "[]"
      ]
     },
     "execution_count": 79,
     "metadata": {},
     "output_type": "execute_result"
    }
   ],
   "source": [
    "requests.get(\"https://jisho.org/api/v1/search/words?keyword=渋紙\").json()['data'][0]['jlpt']"
   ]
  },
  {
   "cell_type": "code",
   "execution_count": 114,
   "metadata": {},
   "outputs": [],
   "source": [
    "def get_jlpt_level(wordlist):\n",
    "    results = []\n",
    "    for word in wordlist:\n",
    "        url = f\"https://jisho.org/api/v1/search/words?keyword={word}\"\n",
    "        response = requests.get(url).json()\n",
    "        if response['data'][0]['jlpt']:\n",
    "            result = response['data'][0]['jlpt'][0]\n",
    "        else:\n",
    "            result = \"Unknown\"\n",
    "        results.append(result)\n",
    "    return results"
   ]
  },
  {
   "cell_type": "code",
   "execution_count": 116,
   "metadata": {},
   "outputs": [
    {
     "name": "stdout",
     "output_type": "stream",
     "text": [
      "['長い', '多い', '湿っぽい', '無い', '短い', '旨い', '淋しい', '白い', '寒い', '冷たい', '少い', 'ない', '拙い', '堅い', '旨い', 'ない', 'ない', 'ない', 'ない', 'ない', 'ない', '淋しい', '淋しい']\n",
      "['jlpt-n2', 'jlpt-n5', 'Unknown', 'Unknown', 'jlpt-n5', 'jlpt-n3', 'jlpt-n4', 'jlpt-n5', 'jlpt-n5', 'jlpt-n5', 'jlpt-n5', 'Unknown', 'Unknown', 'jlpt-n4', 'jlpt-n3', 'Unknown', 'Unknown', 'Unknown', 'Unknown', 'Unknown', 'Unknown', 'jlpt-n4', 'jlpt-n4']\n"
     ]
    }
   ],
   "source": [
    "print(i_adjectives)\n",
    "i_adjectives_level = get_jlpt_level(i_adjectives)\n",
    "print(i_adjectives_level)"
   ]
  }
 ],
 "metadata": {
  "kernelspec": {
   "display_name": "Python 3",
   "language": "python",
   "name": "python3"
  },
  "language_info": {
   "codemirror_mode": {
    "name": "ipython",
    "version": 3
   },
   "file_extension": ".py",
   "mimetype": "text/x-python",
   "name": "python",
   "nbconvert_exporter": "python",
   "pygments_lexer": "ipython3",
   "version": "3.8.10"
  },
  "orig_nbformat": 4
 },
 "nbformat": 4,
 "nbformat_minor": 2
}
