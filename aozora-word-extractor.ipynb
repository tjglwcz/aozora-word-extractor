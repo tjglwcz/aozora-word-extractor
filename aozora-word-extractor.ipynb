{
 "cells": [
  {
   "cell_type": "code",
   "execution_count": 1,
   "metadata": {},
   "outputs": [
    {
     "name": "stderr",
     "output_type": "stream",
     "text": [
      "[dynet] random seed: 1234\n",
      "[dynet] allocating memory: 32MB\n",
      "[dynet] memory allocation done.\n"
     ]
    }
   ],
   "source": [
    "import nagisa\n",
    "import requests\n",
    "import time\n",
    "import pandas as pd\n",
    "from janome.tokenizer import Tokenizer\n",
    "from bs4 import BeautifulSoup\n",
    "from collections import Counter"
   ]
  },
  {
   "cell_type": "code",
   "execution_count": 3,
   "metadata": {},
   "outputs": [],
   "source": [
    "URL = \"https://www.aozora.gr.jp/cards/000148/files/795_43522.html\"\n",
    "book_source = requests.get(URL)"
   ]
  },
  {
   "cell_type": "code",
   "execution_count": 4,
   "metadata": {},
   "outputs": [],
   "source": [
    "soup = BeautifulSoup(book_source.content, \"html.parser\")\n",
    "book_text = soup.find(\"div\",{\"class\":\"main_text\"}).get_text()"
   ]
  },
  {
   "cell_type": "code",
   "execution_count": 5,
   "metadata": {},
   "outputs": [],
   "source": [
    "pronouns = nagisa.extract(book_text, extract_postags='代名詞').words\n",
    "nouns = nagisa.extract(book_text, extract_postags='名詞').words\n",
    "verbs = nagisa.extract(book_text, extract_postags='動詞').words\n",
    "i_adjectives = nagisa.extract(book_text, extract_postags='形容詞').words\n",
    "na_adjectives = nagisa.extract(book_text, extract_postags='形状詞').words"
   ]
  },
  {
   "cell_type": "code",
   "execution_count": 6,
   "metadata": {},
   "outputs": [
    {
     "name": "stdout",
     "output_type": "stream",
     "text": [
      "['余', '子規', '画', '一', '亡友', '記念', '間', 'それ', '袋', '中', '年数', '時', '袋', '所在', '事', '近頃', '転宅', '際', 'どこ', '散逸', '今', 'うち', '表具', '懸物', '気', '渋紙', '袋', '塵', '中', '画', '元', 'まま', '四', '折', '画', 'ほか', '子規', '手紙', '幾', '余', '中', '子規', '余', '寄こ', '最後', 'もの', 'それ', '年月', 'もの', '中間', '例', '画', '三', '一纏め', '表装', '画', '一', '花瓶', '東菊', '図柄', '単簡', '者', '傍', '是', '所', '思い玉え', '病気', '所為', '思い玉え', '嘘', '肱', '見玉え', '註釈', 'ところ', '自分', '子規', '画', '時', '余', '東京', '彼', '画', '東菊', '置きけり', '火', '国', '住みける', '一', '首', '歌', '熊本', '壁', '感じ', '色', '花', '茎', '葉', '硝子', '瓶', '三', '花', '一', '蕾', '二', '葉', '数', '勘定', 'すべて', '九', 'それ', '周囲', '表装', '絹地', '藍', '心持', '子規', '草花', 'ため', '努力', '三', '花', '五', '六', '時間', '手間', 'どこ', 'どこ', 'これ', '骨折', 'ただ', '病中', '根気', '仕事', '決心', '雑作', '俳句', '歌', '彼', '性情', '矛盾', '画', '事', '初心', '彼', '当時', '絵画', '写生', '必要', '不折', 'それ', '一', '一', '上', '実行', '彼', '俳句', '上', '悟入', '方法', '方面', '適用', '事', '適用', '腕', '東菊', '代表', '子規', '画', '才', '章', '彼', '文筆', '絵の具', '皿', '同時', '穂先', '運行', '余', '微笑', '虚子', '幅', '時', '正岡', '絵', 'こと', '余', '時', 'あれ', '平凡', '特色', '時間', '労力', '何', '正岡', '頭', '手', '働き', '余儀', 'ところ', '拙', '馬鹿律', '義', 'もの', '厭味', '風', 'そこ', '重厚', '好所', '子規', '画', '働き', '愚直', 'もの', '一線', '一', '画', '瞬間', '作用', '始末', '特長', 'とっさ', '手際', 'ため', '省略', '捷径', '塗抹', '主義', '根気', '実行', '拙', '一', '字', '子規', '人間', '文学', '拙', '欠乏', '男', '永年', '彼', '交際', '月', '日', '余', 'いま', '彼', '拙', '機会', '試', '彼', '拙', '瞬間', '場合', '彼', '歿後', 'ほとんど', '十', '年', '今日', '彼', '余', 'ため', '一', '東菊', '中', '一', '拙', '字', '事', '結果', '余', '失笑', '感服', '論', '余', '興味', '画', '子規', '拙', '所', '発揮', '償']\n"
     ]
    }
   ],
   "source": [
    "print(pronouns)"
   ]
  },
  {
   "cell_type": "code",
   "execution_count": 7,
   "metadata": {},
   "outputs": [],
   "source": [
    "def convert_to_base_form(wordlist):\n",
    "    t = Tokenizer()\n",
    "    base_forms = []\n",
    "\n",
    "    for word in wordlist:\n",
    "        tokens = t.tokenize(word)\n",
    "        for token in tokens:\n",
    "            base_forms.append(token.base_form)\n",
    "\n",
    "    return base_forms\n"
   ]
  },
  {
   "cell_type": "code",
   "execution_count": 8,
   "metadata": {},
   "outputs": [],
   "source": [
    "verbs = convert_to_base_form(verbs)\n",
    "i_adjectives = convert_to_base_form(i_adjectives)\n",
    "na_adjectives = convert_to_base_form(na_adjectives)"
   ]
  },
  {
   "cell_type": "code",
   "execution_count": 9,
   "metadata": {},
   "outputs": [],
   "source": [
    "verbs = [word for word in verbs if len(word) > 1]\n",
    "i_adjectives = [word for word in i_adjectives if len(word) > 1]\n",
    "na_adjectives = [word for word in na_adjectives if len(word) > 1]"
   ]
  },
  {
   "cell_type": "code",
   "execution_count": 10,
   "metadata": {},
   "outputs": [
    {
     "name": "stdout",
     "output_type": "stream",
     "text": [
      "Counter({'画': 12, '余': 10, '一': 10, '彼': 10, '子規': 9, '拙': 7, 'それ': 4, '中': 4, '時': 4, '事': 4, 'もの': 4, '東菊': 4, '袋': 3, 'どこ': 3, '三': 3, '花': 3, 'ため': 3, '表装': 2, '所': 2, '思い玉え': 2, 'ところ': 2, '歌': 2, '葉': 2, '時間': 2, '根気': 2, '俳句': 2, '上': 2, '実行': 2, '適用': 2, '正岡': 2, '働き': 2, '瞬間': 2, '字': 2, '亡友': 1, '記念': 1, '間': 1, '年数': 1, '所在': 1, '近頃': 1, '転宅': 1, '際': 1, '散逸': 1, '今': 1, 'うち': 1, '表具': 1, '懸物': 1, '気': 1, '渋紙': 1, '塵': 1, '元': 1, 'まま': 1, '四': 1, '折': 1, 'ほか': 1, '手紙': 1, '幾': 1, '寄こ': 1, '最後': 1, '年月': 1, '中間': 1, '例': 1, '一纏め': 1, '花瓶': 1, '図柄': 1, '単簡': 1, '者': 1, '傍': 1, '是': 1, '病気': 1, '所為': 1, '嘘': 1, '肱': 1, '見玉え': 1, '註釈': 1, '自分': 1, '東京': 1, '置きけり': 1, '火': 1, '国': 1, '住みける': 1, '首': 1, '熊本': 1, '壁': 1, '感じ': 1, '色': 1, '茎': 1, '硝子': 1, '瓶': 1, '蕾': 1, '二': 1, '数': 1, '勘定': 1, 'すべて': 1, '九': 1, '周囲': 1, '絹地': 1, '藍': 1, '心持': 1, '草花': 1, '努力': 1, '五': 1, '六': 1, '手間': 1, 'これ': 1, '骨折': 1, 'ただ': 1, '病中': 1, '仕事': 1, '決心': 1, '雑作': 1, '性情': 1, '矛盾': 1, '初心': 1, '当時': 1, '絵画': 1, '写生': 1, '必要': 1, '不折': 1, '悟入': 1, '方法': 1, '方面': 1, '腕': 1, '代表': 1, '才': 1, '章': 1, '文筆': 1, '絵の具': 1, '皿': 1, '同時': 1, '穂先': 1, '運行': 1, '微笑': 1, '虚子': 1, '幅': 1, '絵': 1, 'こと': 1, 'あれ': 1, '平凡': 1, '特色': 1, '労力': 1, '何': 1, '頭': 1, '手': 1, '余儀': 1, '馬鹿律': 1, '義': 1, '厭味': 1, '風': 1, 'そこ': 1, '重厚': 1, '好所': 1, '愚直': 1, '一線': 1, '作用': 1, '始末': 1, '特長': 1, 'とっさ': 1, '手際': 1, '省略': 1, '捷径': 1, '塗抹': 1, '主義': 1, '人間': 1, '文学': 1, '欠乏': 1, '男': 1, '永年': 1, '交際': 1, '月': 1, '日': 1, 'いま': 1, '機会': 1, '試': 1, '場合': 1, '歿後': 1, 'ほとんど': 1, '十': 1, '年': 1, '今日': 1, '結果': 1, '失笑': 1, '感服': 1, '論': 1, '興味': 1, '発揮': 1, '償': 1})\n"
     ]
    }
   ],
   "source": [
    "pronouns = Counter(pronouns)\n",
    "print(pronouns)"
   ]
  },
  {
   "cell_type": "code",
   "execution_count": null,
   "metadata": {},
   "outputs": [],
   "source": [
    "requests.get(\"https://jisho.org/api/v1/search/words?keyword=渋紙\").json()"
   ]
  },
  {
   "cell_type": "code",
   "execution_count": null,
   "metadata": {},
   "outputs": [],
   "source": [
    "requests.get(\"https://jisho.org/api/v1/search/words?keyword=無い\").json()['data'][0]['jlpt']"
   ]
  },
  {
   "cell_type": "code",
   "execution_count": null,
   "metadata": {},
   "outputs": [],
   "source": [
    "def make_api_request(word):\n",
    "    url = f\"https://jisho.org/api/v1/search/words?keyword={word}\"\n",
    "    try:\n",
    "        response = requests.get(url, timeout=10)\n",
    "        response.raise_for_status()\n",
    "        time.sleep(1)\n",
    "        return response.json()\n",
    "    except (requests.exceptions.RequestException, requests.exceptions.Timeout):\n",
    "        print(f\"Timeout for word: {word}. Retrying in 5 seconds...\")\n",
    "        time.sleep(5)\n",
    "        return make_api_request(word)"
   ]
  },
  {
   "cell_type": "code",
   "execution_count": null,
   "metadata": {},
   "outputs": [],
   "source": [
    "def get_reading(wordlist):\n",
    "    results = []\n",
    "    for word in wordlist:\n",
    "        response = make_api_request(word)\n",
    "        try:\n",
    "            result = response['data'][0]['japanese'][0]['reading']\n",
    "        except (IndexError, KeyError):\n",
    "            result = \"unknown\"\n",
    "        results.append(result)\n",
    "    return results"
   ]
  },
  {
   "cell_type": "code",
   "execution_count": null,
   "metadata": {},
   "outputs": [],
   "source": [
    "def get_jlpt_level(wordlist):\n",
    "    results = []\n",
    "    for word in wordlist:\n",
    "        response = make_api_request(word)\n",
    "        try:\n",
    "            if response['data'][0]['jlpt']:\n",
    "                result = response['data'][0]['jlpt'][0]\n",
    "            else:\n",
    "                result = \"Unknown\"\n",
    "        except (IndexError, KeyError):\n",
    "            result = \"Unknown\"\n",
    "        results.append(result)\n",
    "    return results"
   ]
  },
  {
   "cell_type": "code",
   "execution_count": null,
   "metadata": {},
   "outputs": [],
   "source": [
    "print(i_adjectives)\n",
    "i_adjectives_reading = get_reading(i_adjectives)\n",
    "print(i_adjectives_reading)"
   ]
  },
  {
   "cell_type": "code",
   "execution_count": null,
   "metadata": {},
   "outputs": [],
   "source": [
    "print(i_adjectives)\n",
    "i_adjectives_level = get_jlpt_level(i_adjectives)\n",
    "print(i_adjectives_level)"
   ]
  },
  {
   "cell_type": "code",
   "execution_count": null,
   "metadata": {},
   "outputs": [],
   "source": [
    "print(nouns)\n",
    "nouns_level = get_jlpt_level(nouns)\n",
    "print(nouns_level)"
   ]
  }
 ],
 "metadata": {
  "kernelspec": {
   "display_name": "Python 3",
   "language": "python",
   "name": "python3"
  },
  "language_info": {
   "codemirror_mode": {
    "name": "ipython",
    "version": 3
   },
   "file_extension": ".py",
   "mimetype": "text/x-python",
   "name": "python",
   "nbconvert_exporter": "python",
   "pygments_lexer": "ipython3",
   "version": "3.8.10"
  },
  "orig_nbformat": 4
 },
 "nbformat": 4,
 "nbformat_minor": 2
}
