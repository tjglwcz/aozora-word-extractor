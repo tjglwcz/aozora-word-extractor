{
 "cells": [
  {
   "cell_type": "code",
   "execution_count": null,
   "metadata": {},
   "outputs": [],
   "source": [
    "import nagisa\n",
    "import requests\n",
    "import time\n",
    "import pandas as pd\n",
    "from janome.tokenizer import Tokenizer\n",
    "from bs4 import BeautifulSoup\n",
    "from collections import Counter"
   ]
  },
  {
   "cell_type": "code",
   "execution_count": null,
   "metadata": {},
   "outputs": [],
   "source": [
    "URL = \"https://www.aozora.gr.jp/cards/000148/files/795_43522.html\"\n",
    "book_source = requests.get(URL)"
   ]
  },
  {
   "cell_type": "code",
   "execution_count": null,
   "metadata": {},
   "outputs": [],
   "source": [
    "soup = BeautifulSoup(book_source.content, \"html.parser\")\n",
    "book_text = soup.find(\"div\",{\"class\":\"main_text\"}).get_text()\n",
    "book_title = soup.find(\"h1\").get_text()\n",
    "book_author = soup.find(\"h2\").get_text()\n",
    "file_name = f'{book_author} - {book_title}.csv'"
   ]
  },
  {
   "cell_type": "code",
   "execution_count": null,
   "metadata": {},
   "outputs": [],
   "source": [
    "pronouns = nagisa.extract(book_text, extract_postags='代名詞').words\n",
    "nouns = nagisa.extract(book_text, extract_postags='名詞').words\n",
    "verbs = nagisa.extract(book_text, extract_postags='動詞').words\n",
    "i_adjectives = nagisa.extract(book_text, extract_postags='形容詞').words\n",
    "na_adjectives = nagisa.extract(book_text, extract_postags='形状詞').words"
   ]
  },
  {
   "cell_type": "code",
   "execution_count": null,
   "metadata": {},
   "outputs": [],
   "source": [
    "print(pronouns)"
   ]
  },
  {
   "cell_type": "code",
   "execution_count": null,
   "metadata": {},
   "outputs": [],
   "source": [
    "def convert_to_base_form(wordlist):\n",
    "    t = Tokenizer()\n",
    "    base_forms = []\n",
    "\n",
    "    for word in wordlist:\n",
    "        tokens = t.tokenize(word)\n",
    "        for token in tokens:\n",
    "            base_forms.append(token.base_form)\n",
    "\n",
    "    return base_forms\n"
   ]
  },
  {
   "cell_type": "code",
   "execution_count": null,
   "metadata": {},
   "outputs": [],
   "source": [
    "verbs = convert_to_base_form(verbs)\n",
    "i_adjectives = convert_to_base_form(i_adjectives)\n",
    "na_adjectives = convert_to_base_form(na_adjectives)"
   ]
  },
  {
   "cell_type": "code",
   "execution_count": null,
   "metadata": {},
   "outputs": [],
   "source": [
    "verbs = [word for word in verbs if len(word) > 1]\n",
    "i_adjectives = [word for word in i_adjectives if len(word) > 1]\n",
    "na_adjectives = [word for word in na_adjectives if len(word) > 1]"
   ]
  },
  {
   "cell_type": "code",
   "execution_count": null,
   "metadata": {},
   "outputs": [],
   "source": [
    "wordlist = pronouns + nouns + verbs + i_adjectives + na_adjectives\n",
    "wordlist = Counter(wordlist)\n",
    "wordlist = pd.DataFrame(wordlist.items(), columns = ['Word', 'Count'])\n",
    "print(wordlist)"
   ]
  },
  {
   "cell_type": "code",
   "execution_count": null,
   "metadata": {},
   "outputs": [],
   "source": [
    "requests.get(\"https://jisho.org/api/v1/search/words?keyword=渋紙\").json()"
   ]
  },
  {
   "cell_type": "code",
   "execution_count": null,
   "metadata": {},
   "outputs": [],
   "source": [
    "requests.get(\"https://jisho.org/api/v1/search/words?keyword=無い\").json()['data'][0]['jlpt']"
   ]
  },
  {
   "cell_type": "code",
   "execution_count": null,
   "metadata": {},
   "outputs": [],
   "source": [
    "def make_api_request(word):\n",
    "    url = f\"https://jisho.org/api/v1/search/words?keyword={word}\"\n",
    "    try:\n",
    "        response = requests.get(url, timeout=10)\n",
    "        response.raise_for_status()\n",
    "        return response.json()\n",
    "    except (requests.exceptions.RequestException, requests.exceptions.Timeout):\n",
    "        print(f\"Timeout for word: {word}. Retrying in 5 seconds...\")\n",
    "        time.sleep(5)\n",
    "        return make_api_request(word)"
   ]
  },
  {
   "cell_type": "code",
   "execution_count": null,
   "metadata": {},
   "outputs": [],
   "source": [
    "def get_reading(wordlist):\n",
    "    results = []\n",
    "    for word in wordlist:\n",
    "        response = make_api_request(word)\n",
    "        try:\n",
    "            result = response['data'][0]['japanese'][0]['reading']\n",
    "        except (IndexError, KeyError):\n",
    "            result = \"unknown\"\n",
    "        results.append(result)\n",
    "    return results"
   ]
  },
  {
   "cell_type": "code",
   "execution_count": null,
   "metadata": {},
   "outputs": [],
   "source": [
    "def get_jlpt_level(wordlist):\n",
    "    results = []\n",
    "    for word in wordlist:\n",
    "        response = make_api_request(word)\n",
    "        try:\n",
    "            if response['data'][0]['jlpt']:\n",
    "                result = response['data'][0]['jlpt'][0]\n",
    "            else:\n",
    "                result = \"Unknown\"\n",
    "        except (IndexError, KeyError):\n",
    "            result = \"Unknown\"\n",
    "        results.append(result)\n",
    "    return results"
   ]
  },
  {
   "cell_type": "code",
   "execution_count": null,
   "metadata": {},
   "outputs": [],
   "source": [
    "wordlist_reading = get_reading(wordlist['Word'])\n",
    "print(wordlist_reading)"
   ]
  },
  {
   "cell_type": "code",
   "execution_count": null,
   "metadata": {},
   "outputs": [],
   "source": [
    "wordlist['Reading'] = wordlist_reading\n",
    "print(wordlist)"
   ]
  },
  {
   "cell_type": "code",
   "execution_count": null,
   "metadata": {},
   "outputs": [],
   "source": [
    "wordlist_level = get_jlpt_level(wordlist['Word'])\n",
    "wordlist['Level'] = wordlist_level\n",
    "print(wordlist)"
   ]
  },
  {
   "cell_type": "code",
   "execution_count": null,
   "metadata": {},
   "outputs": [],
   "source": [
    "wordlist.to_csv(file_name, index = False)"
   ]
  }
 ],
 "metadata": {
  "kernelspec": {
   "display_name": "Python 3",
   "language": "python",
   "name": "python3"
  },
  "language_info": {
   "codemirror_mode": {
    "name": "ipython",
    "version": 3
   },
   "file_extension": ".py",
   "mimetype": "text/x-python",
   "name": "python",
   "nbconvert_exporter": "python",
   "pygments_lexer": "ipython3",
   "version": "3.8.10"
  },
  "orig_nbformat": 4
 },
 "nbformat": 4,
 "nbformat_minor": 2
}
